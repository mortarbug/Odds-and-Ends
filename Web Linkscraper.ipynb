{
 "cells": [
  {
   "cell_type": "markdown",
   "metadata": {},
   "source": [
    "### A CSS and pyautogui-based link scraper\n",
    "\n",
    "In my early forays into web scraping, I tried to write code that would save sites via python requests. I quickly found, however, that a number of sites (looking at you, Reddit) would cut off requests to their server after just a few attempts. \n",
    "\n",
    "To get around this, I wrote code to save webpages via PyAutoGui"
   ]
  },
  {
   "cell_type": "code",
   "execution_count": 75,
   "metadata": {
    "collapsed": false
   },
   "outputs": [
    {
     "ename": "FailSafeException",
     "evalue": "PyAutoGUI fail-safe triggered from mouse moving to upper-left corner. To disable this fail-safe, set pyautogui.FAILSAFE to False.",
     "output_type": "error",
     "traceback": [
      "\u001b[0;31m---------------------------------------------------------------------------\u001b[0m",
      "\u001b[0;31mFailSafeException\u001b[0m                         Traceback (most recent call last)",
      "\u001b[0;32m<ipython-input-75-602f49e4d6b6>\u001b[0m in \u001b[0;36m<module>\u001b[0;34m()\u001b[0m\n\u001b[1;32m     30\u001b[0m     \u001b[0mwebbrowser\u001b[0m\u001b[1;33m.\u001b[0m\u001b[0mopen\u001b[0m\u001b[1;33m(\u001b[0m\u001b[0mlinks\u001b[0m\u001b[1;33m[\u001b[0m\u001b[0mi\u001b[0m\u001b[1;33m]\u001b[0m\u001b[1;33m)\u001b[0m\u001b[1;33m\u001b[0m\u001b[0m\n\u001b[1;32m     31\u001b[0m     \u001b[0mtime\u001b[0m\u001b[1;33m.\u001b[0m\u001b[0msleep\u001b[0m\u001b[1;33m(\u001b[0m\u001b[1;36m8\u001b[0m\u001b[1;33m)\u001b[0m\u001b[1;33m\u001b[0m\u001b[0m\n\u001b[0;32m---> 32\u001b[0;31m     \u001b[0mpag\u001b[0m\u001b[1;33m.\u001b[0m\u001b[0mhotkey\u001b[0m\u001b[1;33m(\u001b[0m\u001b[1;34m'ctrl'\u001b[0m\u001b[1;33m,\u001b[0m\u001b[1;34m's'\u001b[0m\u001b[1;33m)\u001b[0m\u001b[1;33m\u001b[0m\u001b[0m\n\u001b[0m\u001b[1;32m     33\u001b[0m     \u001b[0mpag\u001b[0m\u001b[1;33m.\u001b[0m\u001b[0mmoveTo\u001b[0m\u001b[1;33m(\u001b[0m\u001b[1;36m517\u001b[0m\u001b[1;33m,\u001b[0m\u001b[1;36m442\u001b[0m\u001b[1;33m,\u001b[0m\u001b[0mduration\u001b[0m \u001b[1;33m=\u001b[0m \u001b[1;36m0.5\u001b[0m\u001b[1;33m)\u001b[0m\u001b[1;33m\u001b[0m\u001b[0m\n\u001b[1;32m     34\u001b[0m     \u001b[0mpag\u001b[0m\u001b[1;33m.\u001b[0m\u001b[0mclick\u001b[0m\u001b[1;33m(\u001b[0m\u001b[1;33m)\u001b[0m\u001b[1;33m\u001b[0m\u001b[0m\n",
      "\u001b[0;32mC:\\Users\\MBG\\Anaconda2\\lib\\site-packages\\pyautogui\\__init__.pyc\u001b[0m in \u001b[0;36mhotkey\u001b[0;34m(*args, **kwargs)\u001b[0m\n\u001b[1;32m    986\u001b[0m     \u001b[0minterval\u001b[0m \u001b[1;33m=\u001b[0m \u001b[0mfloat\u001b[0m\u001b[1;33m(\u001b[0m\u001b[0mkwargs\u001b[0m\u001b[1;33m.\u001b[0m\u001b[0mget\u001b[0m\u001b[1;33m(\u001b[0m\u001b[1;34m'interval'\u001b[0m\u001b[1;33m,\u001b[0m \u001b[1;36m0.0\u001b[0m\u001b[1;33m)\u001b[0m\u001b[1;33m)\u001b[0m\u001b[1;33m\u001b[0m\u001b[0m\n\u001b[1;32m    987\u001b[0m \u001b[1;33m\u001b[0m\u001b[0m\n\u001b[0;32m--> 988\u001b[0;31m     \u001b[0m_failSafeCheck\u001b[0m\u001b[1;33m(\u001b[0m\u001b[1;33m)\u001b[0m\u001b[1;33m\u001b[0m\u001b[0m\n\u001b[0m\u001b[1;32m    989\u001b[0m \u001b[1;33m\u001b[0m\u001b[0m\n\u001b[1;32m    990\u001b[0m     \u001b[1;32mfor\u001b[0m \u001b[0mc\u001b[0m \u001b[1;32min\u001b[0m \u001b[0margs\u001b[0m\u001b[1;33m:\u001b[0m\u001b[1;33m\u001b[0m\u001b[0m\n",
      "\u001b[0;32mC:\\Users\\MBG\\Anaconda2\\lib\\site-packages\\pyautogui\\__init__.pyc\u001b[0m in \u001b[0;36m_failSafeCheck\u001b[0;34m()\u001b[0m\n\u001b[1;32m   1008\u001b[0m \u001b[1;32mdef\u001b[0m \u001b[0m_failSafeCheck\u001b[0m\u001b[1;33m(\u001b[0m\u001b[1;33m)\u001b[0m\u001b[1;33m:\u001b[0m\u001b[1;33m\u001b[0m\u001b[0m\n\u001b[1;32m   1009\u001b[0m     \u001b[1;32mif\u001b[0m \u001b[0mFAILSAFE\u001b[0m \u001b[1;32mand\u001b[0m \u001b[0mposition\u001b[0m\u001b[1;33m(\u001b[0m\u001b[1;33m)\u001b[0m \u001b[1;33m==\u001b[0m \u001b[1;33m(\u001b[0m\u001b[1;36m0\u001b[0m\u001b[1;33m,\u001b[0m \u001b[1;36m0\u001b[0m\u001b[1;33m)\u001b[0m\u001b[1;33m:\u001b[0m\u001b[1;33m\u001b[0m\u001b[0m\n\u001b[0;32m-> 1010\u001b[0;31m         \u001b[1;32mraise\u001b[0m \u001b[0mFailSafeException\u001b[0m\u001b[1;33m(\u001b[0m\u001b[1;34m'PyAutoGUI fail-safe triggered from mouse moving to upper-left corner. To disable this fail-safe, set pyautogui.FAILSAFE to False.'\u001b[0m\u001b[1;33m)\u001b[0m\u001b[1;33m\u001b[0m\u001b[0m\n\u001b[0m\u001b[1;32m   1011\u001b[0m \u001b[1;33m\u001b[0m\u001b[0m\n\u001b[1;32m   1012\u001b[0m \u001b[1;33m\u001b[0m\u001b[0m\n",
      "\u001b[0;31mFailSafeException\u001b[0m: PyAutoGUI fail-safe triggered from mouse moving to upper-left corner. To disable this fail-safe, set pyautogui.FAILSAFE to False."
     ]
    }
   ],
   "source": [
    "#Import the necessary libraries\n",
    "import bs4\n",
    "import pyautogui as pag\n",
    "import webbrowser\n",
    "import requests\n",
    "import time\n",
    "\n",
    "\n",
    "# Request the page from which you want to scrape links\n",
    "res = requests.get('https://www.reddit.com/r/HFY/wiki/series/billybob_space_trucker')\n",
    "\n",
    "# Create a beautiful soup object from the text\n",
    "soup = bs4.BeautifulSoup(res.text)\n",
    "\n",
    "# Get a list of all the elements on the page with a chosen CSS selector\n",
    "# In Chrome, R_click > Inspect > R_click the HTMl > Copy > Get selector \n",
    "soup_1 = soup.select('body > div.content > div > div > ul > li')\n",
    "\n",
    "# Empty list of links\n",
    "links = []\n",
    "\n",
    "# Convert the elements to string type, then parse out the link\n",
    "for i in range(0, len(soup_1)):\n",
    "    current_soup = str(soup_1[i])\n",
    "    current_soup = current_soup.split('\"')[1]\n",
    "    links.append(current_soup)\n",
    "\n",
    "# Write a script to go through the links, saving each one via ctrl-s, Save\n",
    "for i in range (0,len(links)):\n",
    "    webbrowser.open(links[i])\n",
    "    time.sleep(8)\n",
    "    pag.hotkey('ctrl','s')\n",
    "    pag.moveTo(517,442,duration = 0.5)\n",
    "    pag.click()\n",
    "    time.sleep(1)\n"
   ]
  },
  {
   "cell_type": "code",
   "execution_count": 76,
   "metadata": {
    "collapsed": false
   },
   "outputs": [],
   "source": []
  },
  {
   "cell_type": "code",
   "execution_count": 70,
   "metadata": {
    "collapsed": false
   },
   "outputs": [],
   "source": [
    "\n",
    "    "
   ]
  },
  {
   "cell_type": "code",
   "execution_count": null,
   "metadata": {
    "collapsed": true
   },
   "outputs": [],
   "source": []
  }
 ],
 "metadata": {
  "kernelspec": {
   "display_name": "Python 2",
   "language": "python",
   "name": "python2"
  },
  "language_info": {
   "codemirror_mode": {
    "name": "ipython",
    "version": 2
   },
   "file_extension": ".py",
   "mimetype": "text/x-python",
   "name": "python",
   "nbconvert_exporter": "python",
   "pygments_lexer": "ipython2",
   "version": "2.7.13"
  }
 },
 "nbformat": 4,
 "nbformat_minor": 2
}
